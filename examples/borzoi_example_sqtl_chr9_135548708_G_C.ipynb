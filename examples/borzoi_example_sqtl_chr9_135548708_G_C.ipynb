{
 "cells": [
  {
   "cell_type": "code",
   "execution_count": 1,
   "id": "7dbf2734",
   "metadata": {},
   "outputs": [
    {
     "name": "stderr",
     "output_type": "stream",
     "text": [
      "2023-09-26 19:11:42.111709: I tensorflow/core/platform/cpu_feature_guard.cc:182] This TensorFlow binary is optimized to use available CPU instructions in performance-critical operations.\n",
      "To enable the following instructions: AVX2 FMA, in other operations, rebuild TensorFlow with the appropriate compiler flags.\n",
      "2023-09-26 19:11:45.658475: W tensorflow/compiler/tf2tensorrt/utils/py_utils.cc:38] TF-TRT Warning: Could not find TensorRT\n"
     ]
    }
   ],
   "source": [
    "import json\n",
    "import os\n",
    "import time\n",
    "import warnings\n",
    "\n",
    "import h5py\n",
    "import matplotlib.pyplot as plt\n",
    "import matplotlib.patches as patches\n",
    "import numpy as np\n",
    "import pandas as pd\n",
    "import pysam\n",
    "import pyfaidx\n",
    "import tensorflow as tf\n",
    "\n",
    "from baskerville import seqnn\n",
    "from baskerville import gene as bgene\n",
    "from baskerville import dna\n",
    "\n",
    "from borzoi_helpers import *\n",
    "\n",
    "tf.compat.v1.logging.set_verbosity(tf.compat.v1.logging.ERROR)\n",
    "#os.environ['CUDA_VISIBLE_DEVICES'] = '-1'"
   ]
  },
  {
   "cell_type": "code",
   "execution_count": 2,
   "id": "a4238bad",
   "metadata": {},
   "outputs": [
    {
     "name": "stderr",
     "output_type": "stream",
     "text": [
      "bash: /home/jlinder/anaconda3/envs/borzoi_py39_2/lib/libtinfo.so.6: no version information available (required by bash)\n"
     ]
    },
    {
     "name": "stdout",
     "output_type": "stream",
     "text": [
      "f0 model already exists.\n",
      "f1 model already exists.\n",
      "f2 model already exists.\n",
      "f3 model already exists.\n",
      "Annotation already exists.\n",
      "Splice sites already exist.\n",
      "PolyA sites already exist.\n",
      "Human genome FASTA already exists.\n"
     ]
    }
   ],
   "source": [
    "%%bash\n",
    "\n",
    "#Download model weights\n",
    "for fold in f0 f1 f2 f3; do\n",
    "  mkdir -p \"saved_models/$fold/\"\n",
    "  local_model=\"saved_models/$fold/model0_best.h5\"\n",
    "  if [ -f \"$local_model\" ]; then\n",
    "    echo \"$fold model already exists.\"\n",
    "  else\n",
    "    wget --progress=bar:force \"https://storage.googleapis.com/seqnn-share/borzoi/$fold/model0_best.h5\" -O \"$local_model\"\n",
    "  fi\n",
    "done\n",
    "\n",
    "#Download and uncompress annotation files\n",
    "if [ -f gencode41_basic_nort.gtf ]; then\n",
    "  echo \"Annotation already exists.\"\n",
    "else\n",
    "  wget -O - https://storage.googleapis.com/seqnn-share/helper/gencode41_basic_nort.gtf.gz | gunzip -c > gencode41_basic_nort.gtf\n",
    "fi\n",
    "if [ -f gencode41_basic_protein_splice.csv.gz ]; then\n",
    "  echo \"Splice sites already exist.\"\n",
    "else\n",
    "  wget https://storage.googleapis.com/seqnn-share/helper/gencode41_basic_protein_splice.csv.gz\n",
    "fi\n",
    "if [ -f polyadb_human_v3.csv.gz ]; then\n",
    "  echo \"PolyA sites already exist.\"\n",
    "else\n",
    "  wget https://storage.googleapis.com/seqnn-share/helper/polyadb_human_v3.csv.gz\n",
    "fi\n",
    "\n",
    "#Download and index hg38 genome\n",
    "if [ -f hg38.fa ]; then\n",
    "  echo \"Human genome FASTA already exists.\"\n",
    "else\n",
    "  wget -O - http://hgdownload.cse.ucsc.edu/goldenPath/hg38/bigZips/hg38.fa.gz | gunzip -c > hg38.fa\n",
    "fi"
   ]
  },
  {
   "cell_type": "code",
   "execution_count": 3,
   "id": "c4d7b5af",
   "metadata": {},
   "outputs": [
    {
     "data": {
      "text/plain": [
       "Faidx(\"hg38.fa\")"
      ]
     },
     "execution_count": 3,
     "metadata": {},
     "output_type": "execute_result"
    }
   ],
   "source": [
    "pyfaidx.Faidx('hg38.fa')"
   ]
  },
  {
   "cell_type": "code",
   "execution_count": 4,
   "id": "afa277c3",
   "metadata": {},
   "outputs": [
    {
     "name": "stderr",
     "output_type": "stream",
     "text": [
      "2023-09-26 19:11:59.651232: I tensorflow/core/common_runtime/gpu/gpu_device.cc:1635] Created device /job:localhost/replica:0/task:0/device:GPU:0 with 10372 MB memory:  -> device: 0, name: NVIDIA GeForce GTX 1080 Ti, pci bus id: 0000:81:00.0, compute capability: 6.1\n"
     ]
    }
   ],
   "source": [
    "#Model configuration\n",
    "\n",
    "params_file = 'params_pred.json'\n",
    "targets_file = 'targets_gtex.txt' #Subset of targets_human.txt\n",
    "\n",
    "seq_len = 524288\n",
    "n_folds = 1       #To use only one model fold, set to 'n_folds = 1'. To use all four folds, set 'n_folds = 4'.\n",
    "rc = True         #Average across reverse-complement prediction\n",
    "\n",
    "#Read model parameters\n",
    "\n",
    "with open(params_file) as params_open :\n",
    "    \n",
    "    params = json.load(params_open)\n",
    "    \n",
    "    params_model = params['model']\n",
    "    params_train = params['train']\n",
    "\n",
    "#Read targets\n",
    "\n",
    "targets_df = pd.read_csv(targets_file, index_col=0, sep='\\t')\n",
    "target_index = targets_df.index\n",
    "\n",
    "#Create local index of strand_pair (relative to sliced targets)\n",
    "if rc :\n",
    "    strand_pair = targets_df.strand_pair\n",
    "    \n",
    "    target_slice_dict = {ix : i for i, ix in enumerate(target_index.values.tolist())}\n",
    "    slice_pair = np.array([\n",
    "        target_slice_dict[ix] if ix in target_slice_dict else ix for ix in strand_pair.values.tolist()\n",
    "    ], dtype='int32')\n",
    "\n",
    "#Initialize model ensemble\n",
    "\n",
    "models = []\n",
    "for fold_ix in range(n_folds) :\n",
    "    \n",
    "    model_file = \"saved_models/f\" + str(fold_ix) + \"/model0_best.h5\"\n",
    "\n",
    "    seqnn_model = seqnn.SeqNN(params_model)\n",
    "    seqnn_model.restore(model_file, 0)\n",
    "    seqnn_model.build_slice(target_index)\n",
    "    if rc :\n",
    "        seqnn_model.strand_pair.append(slice_pair)\n",
    "    seqnn_model.build_ensemble(rc, [0])\n",
    "    \n",
    "    models.append(seqnn_model)\n"
   ]
  },
  {
   "cell_type": "code",
   "execution_count": 5,
   "id": "505c8f56",
   "metadata": {},
   "outputs": [
    {
     "name": "stdout",
     "output_type": "stream",
     "text": [
      "len(splice_df) = 404837\n"
     ]
    }
   ],
   "source": [
    "#Initialize fasta sequence extractor\n",
    "\n",
    "fasta_open = pysam.Fastafile('hg38.fa')\n",
    "\n",
    "#Load splice site annotation\n",
    "\n",
    "splice_df = pd.read_csv('gencode41_basic_protein_splice.csv.gz', sep='\\t', compression='gzip')\n",
    "\n",
    "print(\"len(splice_df) = \" + str(len(splice_df)))\n"
   ]
  },
  {
   "cell_type": "code",
   "execution_count": 6,
   "id": "2c3584e4",
   "metadata": {},
   "outputs": [
    {
     "name": "stdout",
     "output_type": "stream",
     "text": [
      "testis tracks = [79, 80]\n"
     ]
    }
   ],
   "source": [
    "#Print index of GTEx testis tracks in targets file\n",
    "\n",
    "targets_df['local_index'] = np.arange(len(targets_df))\n",
    "\n",
    "print(\"testis tracks = \" + str(targets_df.loc[targets_df['description'] == 'RNA:testis']['local_index'].tolist()))\n"
   ]
  },
  {
   "cell_type": "code",
   "execution_count": 7,
   "id": "42154bfe",
   "metadata": {},
   "outputs": [
    {
     "name": "stderr",
     "output_type": "stream",
     "text": [
      "2023-09-26 19:13:40.227238: I tensorflow/compiler/xla/stream_executor/cuda/cuda_dnn.cc:424] Loaded cuDNN version 8600\n",
      "2023-09-26 19:13:40.745579: I tensorflow/tsl/platform/default/subprocess.cc:304] Start cannot spawn child process: No such file or directory\n"
     ]
    },
    {
     "name": "stdout",
     "output_type": "stream",
     "text": [
      "-- Counts --\n",
      " - max_y_wt = 60.267\n",
      " - max_y_mut = 60.4653\n",
      " -- (max_y = 60.4653)\n"
     ]
    },
    {
     "data": {
      "image/png": "[encoded data removed]",
      "text/plain": [
       "<Figure size 1200x200 with 1 Axes>"
      ]
     },
     "metadata": {},
     "output_type": "display_data"
    },
    {
     "name": "stdout",
     "output_type": "stream",
     "text": [
      " - max_y_wt = 361.0789\n",
      " - max_y_mut = 360.6328\n",
      " -- (max_y = 361.0789)\n"
     ]
    },
    {
     "data": {
      "image/png": "[encoded data removed]",
      "text/plain": [
       "<Figure size 1200x200 with 1 Axes>"
      ]
     },
     "metadata": {},
     "output_type": "display_data"
    },
    {
     "name": "stdout",
     "output_type": "stream",
     "text": [
      "CPU times: user 13.1 s, sys: 716 ms, total: 13.9 s\n",
      "Wall time: 16.3 s\n"
     ]
    }
   ],
   "source": [
    "%%time\n",
    "#Predict for chr9_135548708_G_C\n",
    "# (~6 minutes on CPU w 1 fold; ~15 seconds on GPU)\n",
    "\n",
    "save_figs = False\n",
    "save_suffix = '_chr9_135548708_G_C'\n",
    "\n",
    "center_pos = 135548708\n",
    "\n",
    "chrom = 'chr9'\n",
    "poses = [135548708]\n",
    "alts = ['C']\n",
    "\n",
    "start = center_pos - seq_len // 2\n",
    "end = center_pos + seq_len // 2\n",
    "\n",
    "sequence_one_hot_wt = process_sequence(fasta_open, chrom, start, end)\n",
    "\n",
    "#Induce mutation(s)\n",
    "sequence_one_hot_mut = np.copy(sequence_one_hot_wt)\n",
    "\n",
    "for pos, alt in zip(poses, alts) :\n",
    "    alt_ix = -1\n",
    "    if alt == 'A' :\n",
    "        alt_ix = 0\n",
    "    elif alt == 'C' :\n",
    "        alt_ix = 1\n",
    "    elif alt == 'G' :\n",
    "        alt_ix = 2\n",
    "    elif alt == 'T' :\n",
    "        alt_ix = 3\n",
    "\n",
    "    sequence_one_hot_mut[pos-start-1] = 0.\n",
    "    sequence_one_hot_mut[pos-start-1, alt_ix] = 1.\n",
    "\n",
    "#Make predictions\n",
    "y_wt = predict_tracks(models, sequence_one_hot_wt)\n",
    "y_mut = predict_tracks(models, sequence_one_hot_mut)\n",
    "\n",
    "#Visualize quantized tracks over SNP\n",
    "\n",
    "plot_window = 4096\n",
    "bin_size = 32\n",
    "pad = 16\n",
    "\n",
    "rescale_tracks = True\n",
    "normalize_counts = False\n",
    "\n",
    "anno_df = splice_df\n",
    "\n",
    "#Tracks\n",
    "track_indices = [\n",
    "    np.arange(0, 89).tolist(),\n",
    "    [79, 80],\n",
    "]\n",
    "\n",
    "track_names = [\n",
    "    'GTEx Coverage (All tissues)',\n",
    "    'GTEx Coverage (Testis)',\n",
    "]\n",
    "\n",
    "track_scales = [0.01]*2\n",
    "track_transforms = [3./4.]*2\n",
    "soft_clips = [384.]*2\n",
    "\n",
    "print(\"-- Counts --\")\n",
    "plot_coverage_track_pair_bins(\n",
    "    y_wt,\n",
    "    y_mut,\n",
    "    chrom,\n",
    "    start,\n",
    "    center_pos,\n",
    "    poses,\n",
    "    track_indices,\n",
    "    track_names,\n",
    "    track_scales,\n",
    "    track_transforms,\n",
    "    soft_clips,\n",
    "    plot_window=plot_window,\n",
    "    normalize_window=8*plot_window,\n",
    "    bin_size=bin_size,\n",
    "    pad=pad,\n",
    "    rescale_tracks=rescale_tracks,\n",
    "    normalize_counts=normalize_counts,\n",
    "    save_figs=save_figs,\n",
    "    save_suffix=save_suffix,\n",
    "    anno_df=anno_df\n",
    ")\n"
   ]
  },
  {
   "cell_type": "code",
   "execution_count": 8,
   "id": "f3bb0e25",
   "metadata": {},
   "outputs": [
    {
     "name": "stdout",
     "output_type": "stream",
     "text": [
      "mut_bin = 8176\n",
      "\n",
      "splice_ix = 0: bin = 8115 (8113 - 8118)\n",
      "splice_ix = 1: bin = 8119 (8117 - 8122)\n",
      "splice_ix = 2: bin = 8128 (8126 - 8131)\n",
      "splice_ix = 3: bin = 8130 (8128 - 8133)\n",
      "splice_ix = 4: bin = 8149 (8147 - 8152)\n",
      "splice_ix = 5: bin = 8153 (8151 - 8156)\n",
      "splice_ix = 6: bin = 8173 (8171 - 8176)\n",
      "splice_ix = 7: bin = 8175 (8173 - 8178)\n",
      "splice_ix = 8: bin = 8179 (8177 - 8182)\n",
      "splice_ix = 9: bin = 8194 (8192 - 8197)\n",
      "splice_ix = 10: bin = 8195 (8193 - 8198)\n",
      "splice_ix = 11: bin = 8195 (8193 - 8198)\n",
      "splice_ix = 12: bin = 8202 (8200 - 8205)\n",
      "splice_ix = 13: bin = 8211 (8209 - 8214)\n",
      "splice_ix = 14: bin = 8211 (8209 - 8214)\n"
     ]
    }
   ],
   "source": [
    "#Print splice site bin positions and other info\n",
    "\n",
    "plot_start = center_pos - plot_window // 2\n",
    "plot_end = center_pos + plot_window // 2\n",
    "\n",
    "plot_start_bin = (plot_start - start) // bin_size - pad\n",
    "plot_end_bin = (plot_end - start) // bin_size - pad\n",
    "\n",
    "mut_bin = (poses[0] - start) // bin_size - pad\n",
    "\n",
    "#Get splice site positions\n",
    "splice_poses = splice_df.query(\"chrom == '\" + chrom + \"' and position_hg38 >= \" + str(plot_start) + \" and position_hg38 < \" + str(plot_end))['position_hg38'].unique().tolist()\n",
    "\n",
    "print(\"mut_bin = \" + str(mut_bin))\n",
    "print(\"\")\n",
    "\n",
    "#Print splice site positions\n",
    "for splice_ix, splice_pos in enumerate(splice_poses) :\n",
    "    \n",
    "    splice_bin = int((splice_pos - start) // 32) - 16\n",
    "    \n",
    "    bin_end = splice_bin + 3\n",
    "    bin_start = bin_end - 5\n",
    "    \n",
    "    print(\"splice_ix = \" + str(splice_ix) + \": bin = \" + str(splice_bin) + \" (\" + str(bin_start) + \" - \" + str(bin_end) + \")\")\n"
   ]
  },
  {
   "cell_type": "code",
   "execution_count": 9,
   "id": "b9b9f717",
   "metadata": {},
   "outputs": [],
   "source": [
    "#Choose splice sites to use for attributions\n",
    "\n",
    "exon_1_start_bin = 8173\n",
    "exon_1_end_bin = 8176\n",
    "\n",
    "exon_2_start_bin = 8180\n",
    "exon_2_end_bin = 8183\n"
   ]
  },
  {
   "cell_type": "code",
   "execution_count": 10,
   "id": "41016527",
   "metadata": {},
   "outputs": [
    {
     "name": "stdout",
     "output_type": "stream",
     "text": [
      "1/1 [==============================] - 414s 414s/step\n",
      "1/1 [==============================] - 220s 220s/step\n",
      "1/1 [==============================] - 409s 409s/step\n",
      "1/1 [==============================] - 220s 220s/step\n",
      "CPU times: user 18min 44s, sys: 2min 45s, total: 21min 30s\n",
      "Wall time: 22min 55s\n"
     ]
    }
   ],
   "source": [
    "%%time\n",
    "#Get contribution scores (gradient) for testis GTEX tracks\n",
    "# (~20 minutes on CPU; otherwise runnable only on 40GB GPU cards, e.g. A100)\n",
    "\n",
    "_, _, [pred_grad_wt, pred_grad_mut] = get_prediction_gradient_w_rc(\n",
    "    models,\n",
    "    [sequence_one_hot_wt, sequence_one_hot_mut],\n",
    "    exon_2_start_bin,\n",
    "    exon_2_end_bin,\n",
    "    exon_1_start_bin,\n",
    "    exon_1_end_bin,\n",
    "    target_index[[79, 80]].tolist(),\n",
    "    0.01,\n",
    "    3./4.,\n",
    "    clip_soft=384.,\n",
    "    use_mean=False,\n",
    "    use_ratio=True,\n",
    "    use_logodds=False,\n",
    "    subtract_avg=True,\n",
    "    fold_index=np.arange(n_folds).tolist(),\n",
    ")\n"
   ]
  },
  {
   "cell_type": "code",
   "execution_count": 11,
   "id": "414eb8be",
   "metadata": {},
   "outputs": [
    {
     "name": "stdout",
     "output_type": "stream",
     "text": [
      "--- WT ---\n"
     ]
    },
    {
     "data": {
      "image/png": "[encoded data removed]",
      "text/plain": [
       "<Figure size 800x100 with 1 Axes>"
      ]
     },
     "metadata": {},
     "output_type": "display_data"
    },
    {
     "name": "stdout",
     "output_type": "stream",
     "text": [
      "--- Mut ---\n"
     ]
    },
    {
     "data": {
      "image/png": "[encoded data removed]",
      "text/plain": [
       "<Figure size 800x100 with 1 Axes>"
      ]
     },
     "metadata": {},
     "output_type": "display_data"
    }
   ],
   "source": [
    "#Visualize gradient contribution scores (128 bp window centered on variant)\n",
    "\n",
    "visualize_input_gradient_pair(\n",
    "    pred_grad_wt,\n",
    "    pred_grad_mut,\n",
    "    plot_start=(poses[0] - start) - 64,\n",
    "    plot_end=(poses[0] - start) + 64,\n",
    "    save_figs=False,\n",
    "    fig_name=chrom + '_' + str(poses[0]) + '_prediction_grad_gtex_snp_4_folds_gtex_cov_testis_undo_clip'\n",
    ")\n"
   ]
  },
  {
   "cell_type": "code",
   "execution_count": 12,
   "id": "7f2bd42d",
   "metadata": {},
   "outputs": [
    {
     "name": "stdout",
     "output_type": "stream",
     "text": [
      "example_ix = 0\n",
      "example_ix = 1\n",
      "CPU times: user 15min 37s, sys: 1min 15s, total: 16min 53s\n",
      "Wall time: 33min 18s\n"
     ]
    }
   ],
   "source": [
    "%%time\n",
    "#Get contribution scores (ISM) for testis GTEX tracks\n",
    "# (not feasible to run on CPU; ~30 minutes on GPU)\n",
    "\n",
    "[pred_ism_wt, pred_ism_mut] = get_ism(\n",
    "    models,\n",
    "    [sequence_one_hot_wt, sequence_one_hot_mut],\n",
    "    (poses[0] - start) - 64,\n",
    "    (poses[0] - start) + 64,\n",
    "    exon_2_start_bin,\n",
    "    exon_2_end_bin,\n",
    "    exon_1_start_bin,\n",
    "    exon_1_end_bin,\n",
    "    [79, 80],\n",
    "    0.01,\n",
    "    3./4.,\n",
    "    384.,\n",
    "    use_mean=False,\n",
    "    use_ratio=True,\n",
    "    use_logodds=False\n",
    ")\n"
   ]
  },
  {
   "cell_type": "code",
   "execution_count": 13,
   "id": "3bd730e9",
   "metadata": {},
   "outputs": [
    {
     "name": "stdout",
     "output_type": "stream",
     "text": [
      "--- WT ---\n"
     ]
    },
    {
     "data": {
      "image/png": "[encoded data removed]",
      "text/plain": [
       "<Figure size 800x100 with 1 Axes>"
      ]
     },
     "metadata": {},
     "output_type": "display_data"
    },
    {
     "name": "stdout",
     "output_type": "stream",
     "text": [
      "--- Mut ---\n"
     ]
    },
    {
     "data": {
      "image/png": "[encoded data removed]",
      "text/plain": [
       "<Figure size 800x100 with 1 Axes>"
      ]
     },
     "metadata": {},
     "output_type": "display_data"
    }
   ],
   "source": [
    "#Visualize ISM contribution scores (128 bp window centered on variant)\n",
    "\n",
    "visualize_input_gradient_pair(\n",
    "    pred_ism_wt,\n",
    "    pred_ism_mut,\n",
    "    plot_start=(poses[0] - start) - 64,\n",
    "    plot_end=(poses[0] - start) + 64,\n",
    "    save_figs=False,\n",
    "    fig_name=chrom + '_' + str(poses[0]) + '_prediction_ism_gtex_snp_4_folds_gtex_cov_testis_undo_clip'\n",
    ")\n"
   ]
  },
  {
   "cell_type": "code",
   "execution_count": 14,
   "id": "0132c170",
   "metadata": {},
   "outputs": [
    {
     "name": "stdout",
     "output_type": "stream",
     "text": [
      "example_ix = 0\n",
      "example_ix = 1\n",
      "CPU times: user 1h 2min, sys: 5min 17s, total: 1h 7min 17s\n",
      "Wall time: 2h 13min 1s\n"
     ]
    }
   ],
   "source": [
    "%%time\n",
    "#Get contribution scores (ISM shuffle) for testis GTEX tracks\n",
    "# (not feasible to run on CPU; ~135 minutes on GPU)\n",
    "\n",
    "[pred_ism_wt, pred_ism_mut] = get_ism_shuffle(\n",
    "    models,\n",
    "    [sequence_one_hot_wt, sequence_one_hot_mut],\n",
    "    (poses[0] - start) - 64,\n",
    "    (poses[0] - start) + 64,\n",
    "    exon_2_start_bin,\n",
    "    exon_2_end_bin,\n",
    "    exon_1_start_bin,\n",
    "    exon_1_end_bin,\n",
    "    [79, 80],\n",
    "    0.01,\n",
    "    3./4.,\n",
    "    384.,\n",
    "    window_size=5,\n",
    "    n_samples=12,\n",
    "    use_mean=False,\n",
    "    use_ratio=True,\n",
    "    use_logodds=False\n",
    ")\n"
   ]
  },
  {
   "cell_type": "code",
   "execution_count": 15,
   "id": "34d5e490",
   "metadata": {},
   "outputs": [
    {
     "name": "stdout",
     "output_type": "stream",
     "text": [
      "--- WT ---\n"
     ]
    },
    {
     "data": {
      "image/png": "[encoded data removed]",
      "text/plain": [
       "<Figure size 800x100 with 1 Axes>"
      ]
     },
     "metadata": {},
     "output_type": "display_data"
    },
    {
     "name": "stdout",
     "output_type": "stream",
     "text": [
      "--- Mut ---\n"
     ]
    },
    {
     "data": {
      "image/png": "[encoded data removed]",
      "text/plain": [
       "<Figure size 800x100 with 1 Axes>"
      ]
     },
     "metadata": {},
     "output_type": "display_data"
    }
   ],
   "source": [
    "#Visualize ISM Shuffle contribution scores (128 bp window centered on variant)\n",
    "\n",
    "visualize_input_gradient_pair(\n",
    "    pred_ism_wt,\n",
    "    pred_ism_mut,\n",
    "    plot_start=(poses[0] - start) - 64,\n",
    "    plot_end=(poses[0] - start) + 64,\n",
    "    save_figs=False,\n",
    "    fig_name=chrom + '_' + str(poses[0]) + '_prediction_ism_shuffle_gtex_snp_4_folds_gtex_cov_testis_undo_clip'\n",
    ")\n"
   ]
  },
  {
   "cell_type": "code",
   "execution_count": 16,
   "id": "5a067915",
   "metadata": {},
   "outputs": [],
   "source": [
    "#Load samples with reference- and alternate alleles respectively\n",
    "\n",
    "#These files are protected by dbGaP - email to request access\n",
    "\n",
    "cov_files_wt = pd.read_csv(\"gtex_ref_chr9_135548708_G_C.txt\", sep='\\t', names=['file'])['file'].values.tolist()\n",
    "cov_files_mut = pd.read_csv(\"gtex_alt_chr9_135548708_G_C.txt\", sep='\\t', names=['file'])['file'].values.tolist()\n"
   ]
  },
  {
   "cell_type": "code",
   "execution_count": 17,
   "id": "6d9948c8",
   "metadata": {},
   "outputs": [
    {
     "name": "stdout",
     "output_type": "stream",
     "text": [
      "gtex_targets_wt.shape = (16352, 5)\n",
      "gtex_targets_mut.shape = (16352, 5)\n",
      "-- Counts --\n",
      " - max_y_wt = 986.4816\n",
      " - max_y_mut = 1083.784\n",
      " -- (max_y = 1083.784)\n"
     ]
    },
    {
     "data": {
      "image/png": "[encoded data removed]",
      "text/plain": [
       "<Figure size 1200x200 with 1 Axes>"
      ]
     },
     "metadata": {},
     "output_type": "display_data"
    }
   ],
   "source": [
    "#Read measured coverage tracks for chr9_135548708_G_C\n",
    "\n",
    "save_figs = False\n",
    "save_suffix = '_chr9_135548708_G_C_meas_5_subjects'\n",
    "\n",
    "center_pos = 135548708\n",
    "\n",
    "chrom = 'chr9'\n",
    "poses = [135548708]\n",
    "alts = ['C']\n",
    "\n",
    "start = center_pos - seq_len // 2\n",
    "end = center_pos + seq_len // 2\n",
    "\n",
    "blacklist_bed = \"/home/drk/common/data/genomes/hg38/blacklist/blacklist_hg38_all.bed\"\n",
    "\n",
    "read_coverage_func_wt, close_coverage_func_wt = get_coverage_reader(cov_files_wt, 16384, 16, blacklist_bed)\n",
    "read_coverage_func_mut, close_coverage_func_mut = get_coverage_reader(cov_files_mut, 16384, 16, blacklist_bed)\n",
    "\n",
    "gtex_targets_wt = read_coverage_func_wt(chrom, start, end, clip_soft=384., clip=768., scale=0.01)\n",
    "gtex_targets_mut = read_coverage_func_mut(chrom, start, end, clip_soft=384., clip=768., scale=0.01)\n",
    "\n",
    "close_coverage_func_wt()\n",
    "close_coverage_func_mut()\n",
    "\n",
    "print(\"gtex_targets_wt.shape = \" + str(gtex_targets_wt.shape))\n",
    "print(\"gtex_targets_mut.shape = \" + str(gtex_targets_mut.shape))\n",
    "\n",
    "plot_window = 4096\n",
    "bin_size = 32\n",
    "pad = 16\n",
    "\n",
    "anno_df = splice_df\n",
    "\n",
    "rescale_tracks = True\n",
    "normalize_counts = True\n",
    "\n",
    "#Tracks\n",
    "track_indices = [\n",
    "    [0, 1, 2, 3, 4],\n",
    "]\n",
    "\n",
    "track_names = [\n",
    "    'GTEx Testis measured (5 subjects)',\n",
    "]\n",
    "\n",
    "track_scales = [\n",
    "    0.01,\n",
    "]\n",
    "\n",
    "track_transforms = [\n",
    "    3./4.,\n",
    "]\n",
    "\n",
    "soft_clips = [\n",
    "    384.,\n",
    "]\n",
    "\n",
    "print(\"-- Counts --\")\n",
    "plot_coverage_track_pair_bins(\n",
    "    gtex_targets_wt[None, None, ...],\n",
    "    gtex_targets_mut[None, None, ...],\n",
    "    chrom,\n",
    "    start,\n",
    "    center_pos,\n",
    "    poses,\n",
    "    track_indices,\n",
    "    track_names,\n",
    "    track_scales,\n",
    "    track_transforms,\n",
    "    soft_clips,\n",
    "    plot_window=plot_window,\n",
    "    normalize_window=8*plot_window,\n",
    "    bin_size=bin_size,\n",
    "    pad=pad,\n",
    "    rescale_tracks=rescale_tracks,\n",
    "    normalize_counts=normalize_counts,\n",
    "    save_figs=save_figs,\n",
    "    save_suffix=save_suffix,\n",
    "    anno_df=anno_df\n",
    ")\n"
   ]
  },
  {
   "cell_type": "code",
   "execution_count": null,
   "id": "7efea964",
   "metadata": {},
   "outputs": [],
   "source": []
  }
 ],
 "metadata": {
  "kernelspec": {
   "display_name": "Python [conda env:borzoi_py39_2]",
   "language": "python",
   "name": "conda-env-borzoi_py39_2-py"
  },
  "language_info": {
   "codemirror_mode": {
    "name": "ipython",
    "version": 3
   },
   "file_extension": ".py",
   "mimetype": "text/x-python",
   "name": "python",
   "nbconvert_exporter": "python",
   "pygments_lexer": "ipython3",
   "version": "3.9.17"
  }
 },
 "nbformat": 4,
 "nbformat_minor": 5
}
