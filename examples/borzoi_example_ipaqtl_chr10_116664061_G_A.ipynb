{
 "cells": [
  {
   "cell_type": "code",
   "execution_count": 1,
   "id": "7dbf2734",
   "metadata": {},
   "outputs": [
    {
     "name": "stderr",
     "output_type": "stream",
     "text": [
      "2023-09-27 09:37:40.216505: I tensorflow/core/platform/cpu_feature_guard.cc:182] This TensorFlow binary is optimized to use available CPU instructions in performance-critical operations.\n",
      "To enable the following instructions: AVX2 FMA, in other operations, rebuild TensorFlow with the appropriate compiler flags.\n",
      "2023-09-27 09:37:43.728456: W tensorflow/compiler/tf2tensorrt/utils/py_utils.cc:38] TF-TRT Warning: Could not find TensorRT\n"
     ]
    }
   ],
   "source": [
    "import json\n",
    "import os\n",
    "import time\n",
    "import warnings\n",
    "\n",
    "import h5py\n",
    "import matplotlib.pyplot as plt\n",
    "import matplotlib.patches as patches\n",
    "import numpy as np\n",
    "import pandas as pd\n",
    "import pysam\n",
    "import pyfaidx\n",
    "import tensorflow as tf\n",
    "\n",
    "from baskerville import seqnn\n",
    "from baskerville import gene as bgene\n",
    "from baskerville import dna\n",
    "\n",
    "from borzoi_helpers import *\n",
    "\n",
    "tf.compat.v1.logging.set_verbosity(tf.compat.v1.logging.ERROR)\n",
    "#os.environ['CUDA_VISIBLE_DEVICES'] = '-1'"
   ]
  },
  {
   "cell_type": "code",
   "execution_count": 2,
   "id": "a8911e01",
   "metadata": {},
   "outputs": [
    {
     "name": "stderr",
     "output_type": "stream",
     "text": [
      "bash: /home/jlinder/anaconda3/envs/borzoi_py39_2/lib/libtinfo.so.6: no version information available (required by bash)\n"
     ]
    },
    {
     "name": "stdout",
     "output_type": "stream",
     "text": [
      "f0 model already exists.\n",
      "f1 model already exists.\n",
      "f2 model already exists.\n",
      "f3 model already exists.\n",
      "Annotation already exists.\n",
      "Splice sites already exist.\n",
      "PolyA sites already exist.\n",
      "Human genome FASTA already exists.\n"
     ]
    }
   ],
   "source": [
    "%%bash\n",
    "\n",
    "#Download model weights\n",
    "for fold in f0 f1 f2 f3; do\n",
    "  mkdir -p \"saved_models/$fold/\"\n",
    "  local_model=\"saved_models/$fold/model0_best.h5\"\n",
    "  if [ -f \"$local_model\" ]; then\n",
    "    echo \"$fold model already exists.\"\n",
    "  else\n",
    "    wget --progress=bar:force \"https://storage.googleapis.com/seqnn-share/borzoi/$fold/model0_best.h5\" -O \"$local_model\"\n",
    "  fi\n",
    "done\n",
    "\n",
    "#Download and uncompress annotation files\n",
    "if [ -f gencode41_basic_nort.gtf ]; then\n",
    "  echo \"Annotation already exists.\"\n",
    "else\n",
    "  wget -O - https://storage.googleapis.com/seqnn-share/helper/gencode41_basic_nort.gtf.gz | gunzip -c > gencode41_basic_nort.gtf\n",
    "fi\n",
    "if [ -f gencode41_basic_protein_splice.csv.gz ]; then\n",
    "  echo \"Splice sites already exist.\"\n",
    "else\n",
    "  wget https://storage.googleapis.com/seqnn-share/helper/gencode41_basic_protein_splice.csv.gz\n",
    "fi\n",
    "if [ -f polyadb_human_v3.csv.gz ]; then\n",
    "  echo \"PolyA sites already exist.\"\n",
    "else\n",
    "  wget https://storage.googleapis.com/seqnn-share/helper/polyadb_human_v3.csv.gz\n",
    "fi\n",
    "\n",
    "#Download and index hg38 genome\n",
    "if [ -f hg38.fa ]; then\n",
    "  echo \"Human genome FASTA already exists.\"\n",
    "else\n",
    "  wget -O - http://hgdownload.cse.ucsc.edu/goldenPath/hg38/bigZips/hg38.fa.gz | gunzip -c > hg38.fa\n",
    "fi"
   ]
  },
  {
   "cell_type": "code",
   "execution_count": 3,
   "id": "e5c8db8e",
   "metadata": {},
   "outputs": [
    {
     "data": {
      "text/plain": [
       "Faidx(\"hg38.fa\")"
      ]
     },
     "execution_count": 3,
     "metadata": {},
     "output_type": "execute_result"
    }
   ],
   "source": [
    "pyfaidx.Faidx('hg38.fa')"
   ]
  },
  {
   "cell_type": "code",
   "execution_count": 4,
   "id": "91245dce",
   "metadata": {},
   "outputs": [
    {
     "name": "stderr",
     "output_type": "stream",
     "text": [
      "2023-09-27 09:38:21.436402: I tensorflow/core/common_runtime/gpu/gpu_device.cc:1635] Created device /job:localhost/replica:0/task:0/device:GPU:0 with 10372 MB memory:  -> device: 0, name: NVIDIA GeForce GTX 1080 Ti, pci bus id: 0000:81:00.0, compute capability: 6.1\n"
     ]
    }
   ],
   "source": [
    "#Model configuration\n",
    "\n",
    "params_file = 'params_pred.json'\n",
    "targets_file = 'targets_gtex.txt' #Subset of targets_human.txt\n",
    "\n",
    "seq_len = 524288\n",
    "n_folds = 1       #To use only one model fold, set to 'n_folds = 1'. To use all four folds, set 'n_folds = 4'.\n",
    "rc = True         #Average across reverse-complement prediction\n",
    "\n",
    "#Read model parameters\n",
    "\n",
    "with open(params_file) as params_open :\n",
    "    \n",
    "    params = json.load(params_open)\n",
    "    \n",
    "    params_model = params['model']\n",
    "    params_train = params['train']\n",
    "\n",
    "#Read targets\n",
    "\n",
    "targets_df = pd.read_csv(targets_file, index_col=0, sep='\\t')\n",
    "target_index = targets_df.index\n",
    "\n",
    "#Create local index of strand_pair (relative to sliced targets)\n",
    "if rc :\n",
    "    strand_pair = targets_df.strand_pair\n",
    "    \n",
    "    target_slice_dict = {ix : i for i, ix in enumerate(target_index.values.tolist())}\n",
    "    slice_pair = np.array([\n",
    "        target_slice_dict[ix] if ix in target_slice_dict else ix for ix in strand_pair.values.tolist()\n",
    "    ], dtype='int32')\n",
    "\n",
    "#Initialize model ensemble\n",
    "\n",
    "models = []\n",
    "for fold_ix in range(n_folds) :\n",
    "    \n",
    "    model_file = \"saved_models/f\" + str(fold_ix) + \"/model0_best.h5\"\n",
    "\n",
    "    seqnn_model = seqnn.SeqNN(params_model)\n",
    "    seqnn_model.restore(model_file, 0)\n",
    "    seqnn_model.build_slice(target_index)\n",
    "    if rc :\n",
    "        seqnn_model.strand_pair.append(slice_pair)\n",
    "    seqnn_model.build_ensemble(rc, [0])\n",
    "    \n",
    "    models.append(seqnn_model)\n"
   ]
  },
  {
   "cell_type": "code",
   "execution_count": 5,
   "id": "a8e09390",
   "metadata": {},
   "outputs": [
    {
     "name": "stdout",
     "output_type": "stream",
     "text": [
      "len(splice_df) = 404837\n"
     ]
    }
   ],
   "source": [
    "#Initialize fasta sequence extractor\n",
    "\n",
    "fasta_open = pysam.Fastafile('hg38.fa')\n",
    "\n",
    "#Load splice site annotation\n",
    "\n",
    "splice_df = pd.read_csv('gencode41_basic_protein_splice.csv.gz', sep='\\t', compression='gzip')\n",
    "\n",
    "print(\"len(splice_df) = \" + str(len(splice_df)))\n"
   ]
  },
  {
   "cell_type": "code",
   "execution_count": 6,
   "id": "2bea48e2",
   "metadata": {},
   "outputs": [
    {
     "name": "stdout",
     "output_type": "stream",
     "text": [
      "thyroid tracks = [81, 82, 83]\n",
      "nerve tracks = [50, 51]\n"
     ]
    }
   ],
   "source": [
    "#Print index of GTEx thyroid and nerve tracks in targets file\n",
    "\n",
    "targets_df['local_index'] = np.arange(len(targets_df))\n",
    "\n",
    "print(\"thyroid tracks = \" + str(targets_df.loc[targets_df['description'] == 'RNA:thyroid']['local_index'].tolist()))\n",
    "print(\"nerve tracks = \" + str(targets_df.loc[targets_df['description'] == 'RNA:nerve']['local_index'].tolist()))\n"
   ]
  },
  {
   "cell_type": "code",
   "execution_count": 7,
   "id": "3bd4e6c7",
   "metadata": {
    "scrolled": true
   },
   "outputs": [
    {
     "name": "stderr",
     "output_type": "stream",
     "text": [
      "2023-09-27 09:39:03.367207: I tensorflow/compiler/xla/stream_executor/cuda/cuda_dnn.cc:424] Loaded cuDNN version 8600\n",
      "2023-09-27 09:39:03.874328: I tensorflow/tsl/platform/default/subprocess.cc:304] Start cannot spawn child process: No such file or directory\n"
     ]
    },
    {
     "name": "stdout",
     "output_type": "stream",
     "text": [
      "-- Counts --\n",
      " - max_y_wt = 291.0626\n",
      " - max_y_mut = 332.1575\n",
      " -- (max_y = 332.1575)\n"
     ]
    },
    {
     "data": {
      "image/png": "[encoded data removed]",
      "text/plain": [
       "<Figure size 1200x200 with 1 Axes>"
      ]
     },
     "metadata": {},
     "output_type": "display_data"
    },
    {
     "name": "stdout",
     "output_type": "stream",
     "text": [
      " - max_y_wt = 472.8082\n",
      " - max_y_mut = 551.0536\n",
      " -- (max_y = 551.0536)\n"
     ]
    },
    {
     "data": {
      "image/png": "[encoded data removed]",
      "text/plain": [
       "<Figure size 1200x200 with 1 Axes>"
      ]
     },
     "metadata": {},
     "output_type": "display_data"
    },
    {
     "name": "stdout",
     "output_type": "stream",
     "text": [
      " - max_y_wt = 227.878\n",
      " - max_y_mut = 265.866\n",
      " -- (max_y = 265.866)\n"
     ]
    },
    {
     "data": {
      "image/png": "[encoded data removed]",
      "text/plain": [
       "<Figure size 1200x200 with 1 Axes>"
      ]
     },
     "metadata": {},
     "output_type": "display_data"
    },
    {
     "name": "stdout",
     "output_type": "stream",
     "text": [
      "CPU times: user 15.1 s, sys: 683 ms, total: 15.8 s\n",
      "Wall time: 18.1 s\n"
     ]
    }
   ],
   "source": [
    "%%time\n",
    "#Predict for chr10_116664061_G_A\n",
    "# (~6 minutes on CPU w 1 fold; ~15 seconds on GPU)\n",
    "\n",
    "save_figs = False\n",
    "save_suffix = '_chr10_116664061_G_A'\n",
    "\n",
    "center_pos = 116664061\n",
    "\n",
    "chrom = 'chr10'\n",
    "poses = [116664061]\n",
    "alts = ['A']\n",
    "\n",
    "start = center_pos - seq_len // 2\n",
    "end = center_pos + seq_len // 2\n",
    "\n",
    "sequence_one_hot_wt = process_sequence(fasta_open, chrom, start, end)\n",
    "\n",
    "#Induce mutation(s)\n",
    "sequence_one_hot_mut = np.copy(sequence_one_hot_wt)\n",
    "\n",
    "for pos, alt in zip(poses, alts) :\n",
    "    alt_ix = -1\n",
    "    if alt == 'A' :\n",
    "        alt_ix = 0\n",
    "    elif alt == 'C' :\n",
    "        alt_ix = 1\n",
    "    elif alt == 'G' :\n",
    "        alt_ix = 2\n",
    "    elif alt == 'T' :\n",
    "        alt_ix = 3\n",
    "\n",
    "    sequence_one_hot_mut[pos-start-1] = 0.\n",
    "    sequence_one_hot_mut[pos-start-1, alt_ix] = 1.\n",
    "\n",
    "#Make predictions\n",
    "y_wt = predict_tracks(models, sequence_one_hot_wt)\n",
    "y_mut = predict_tracks(models, sequence_one_hot_mut)\n",
    "\n",
    "#Visualize quantized tracks over SNP\n",
    "\n",
    "plot_window = 4096 * 2\n",
    "bin_size = 32\n",
    "pad = 16\n",
    "\n",
    "rescale_tracks = True\n",
    "normalize_counts = False\n",
    "\n",
    "anno_df = splice_df\n",
    "\n",
    "#Tracks\n",
    "track_indices = [\n",
    "    np.arange(0, 89).tolist(),\n",
    "    [81, 82, 83],\n",
    "    [50, 51],\n",
    "]\n",
    "\n",
    "track_names = [\n",
    "    'GTEx Coverage (All tissues)',\n",
    "    'GTEx Coverage (Thyroid)',\n",
    "    'GTEx Coverage (Nerve)',\n",
    "]\n",
    "\n",
    "track_scales = [\n",
    "    0.01,\n",
    "    0.01,\n",
    "    0.01,\n",
    "]\n",
    "\n",
    "track_transforms = [\n",
    "    3./4.,\n",
    "    3./4.,\n",
    "    3./4.,\n",
    "]\n",
    "\n",
    "soft_clips = [\n",
    "    384.,\n",
    "    384.,\n",
    "    384.,\n",
    "]\n",
    "\n",
    "print(\"-- Counts --\")\n",
    "plot_coverage_track_pair_bins(y_wt, y_mut, chrom, start, center_pos, poses, track_indices, track_names, track_scales, track_transforms, soft_clips, plot_window=plot_window, normalize_window=8*plot_window, bin_size=bin_size, pad=pad, rescale_tracks=rescale_tracks, normalize_counts=normalize_counts, save_figs=save_figs, save_suffix=save_suffix, anno_df=anno_df)\n"
   ]
  },
  {
   "cell_type": "code",
   "execution_count": 8,
   "id": "f3bb0e25",
   "metadata": {},
   "outputs": [
    {
     "name": "stdout",
     "output_type": "stream",
     "text": [
      "mut_bin = 8176\n",
      "\n",
      "splice_ix = 0: bin = 8175 (8173 - 8178)\n",
      "splice_ix = 1: bin = 8179 (8177 - 8182)\n",
      "splice_ix = 2: bin = 8179 (8177 - 8182)\n",
      "splice_ix = 3: bin = 8182 (8180 - 8185)\n",
      "splice_ix = 4: bin = 8197 (8195 - 8200)\n",
      "splice_ix = 5: bin = 8203 (8201 - 8206)\n",
      "splice_ix = 6: bin = 8224 (8222 - 8227)\n",
      "splice_ix = 7: bin = 8231 (8229 - 8234)\n"
     ]
    }
   ],
   "source": [
    "#Print splice site bin positions and other info\n",
    "\n",
    "plot_start = center_pos - plot_window // 2\n",
    "plot_end = center_pos + plot_window // 2\n",
    "\n",
    "plot_start_bin = (plot_start - start) // bin_size - pad\n",
    "plot_end_bin = (plot_end - start) // bin_size - pad\n",
    "\n",
    "mut_bin = (poses[0] - start) // bin_size - pad\n",
    "\n",
    "#Get splice site positions\n",
    "splice_poses = splice_df.query(\"chrom == '\" + chrom + \"' and position_hg38 >= \" + str(plot_start) + \" and position_hg38 < \" + str(plot_end))['position_hg38'].unique().tolist()\n",
    "\n",
    "print(\"mut_bin = \" + str(mut_bin))\n",
    "print(\"\")\n",
    "\n",
    "#Print splice site positions\n",
    "for splice_ix, splice_pos in enumerate(splice_poses) :\n",
    "    \n",
    "    splice_bin = int((splice_pos - start) // 32) - 16\n",
    "    \n",
    "    bin_end = splice_bin + 3\n",
    "    bin_start = bin_end - 5\n",
    "    \n",
    "    print(\"splice_ix = \" + str(splice_ix) + \": bin = \" + str(splice_bin) + \" (\" + str(bin_start) + \" - \" + str(bin_end) + \")\")\n"
   ]
  },
  {
   "cell_type": "code",
   "execution_count": 9,
   "id": "9a310c06",
   "metadata": {},
   "outputs": [],
   "source": [
    "#Choose splice sites to use for attributions\n",
    "\n",
    "exon_1_start_bin = 8173\n",
    "exon_1_end_bin = 8176\n",
    "\n",
    "exon_2_start_bin = 8176\n",
    "exon_2_end_bin = 8179\n"
   ]
  },
  {
   "cell_type": "code",
   "execution_count": 10,
   "id": "12af2ad7",
   "metadata": {},
   "outputs": [
    {
     "name": "stdout",
     "output_type": "stream",
     "text": [
      "1/1 [==============================] - 410s 410s/step\n",
      "1/1 [==============================] - 220s 220s/step\n",
      "1/1 [==============================] - 410s 410s/step\n",
      "1/1 [==============================] - 220s 220s/step\n",
      "CPU times: user 18min 44s, sys: 2min 44s, total: 21min 28s\n",
      "Wall time: 22min 56s\n"
     ]
    }
   ],
   "source": [
    "%%time\n",
    "#Get contribution scores (gradient) for nerve GTEX tracks\n",
    "# (~20 minutes on CPU; otherwise runnable only on 40GB GPU cards, e.g. A100)\n",
    "\n",
    "_, _, [pred_grad_wt, pred_grad_mut] = get_prediction_gradient_w_rc(\n",
    "    models,\n",
    "    [sequence_one_hot_wt, sequence_one_hot_mut],\n",
    "    exon_2_start_bin,\n",
    "    exon_2_end_bin,\n",
    "    exon_1_start_bin,\n",
    "    exon_1_end_bin,\n",
    "    target_index[[50, 51]].tolist(),\n",
    "    0.01,\n",
    "    3./4.,\n",
    "    clip_soft=384.,\n",
    "    use_mean=False,\n",
    "    use_ratio=True,\n",
    "    use_logodds=False,\n",
    "    subtract_avg=True,\n",
    "    fold_index=np.arange(n_folds).tolist(),\n",
    ")\n"
   ]
  },
  {
   "cell_type": "code",
   "execution_count": 11,
   "id": "5fe23b3d",
   "metadata": {},
   "outputs": [
    {
     "name": "stdout",
     "output_type": "stream",
     "text": [
      "--- WT ---\n"
     ]
    },
    {
     "data": {
      "image/png": "[encoded data removed]",
      "text/plain": [
       "<Figure size 800x100 with 1 Axes>"
      ]
     },
     "metadata": {},
     "output_type": "display_data"
    },
    {
     "name": "stdout",
     "output_type": "stream",
     "text": [
      "--- Mut ---\n"
     ]
    },
    {
     "data": {
      "image/png": "[encoded data removed]",
      "text/plain": [
       "<Figure size 800x100 with 1 Axes>"
      ]
     },
     "metadata": {},
     "output_type": "display_data"
    }
   ],
   "source": [
    "#Visualize gradient contribution scores (128 bp window centered on variant); shown in reverse-complement\n",
    "\n",
    "visualize_input_gradient_pair(\n",
    "    pred_grad_wt[::-1, ::-1], #'::-1' on pos and channel axes causes rev-comp\n",
    "    pred_grad_mut[::-1, ::-1],\n",
    "    plot_start=seq_len - (poses[0] - start) - 64 - 1,\n",
    "    plot_end=seq_len - (poses[0] - start) + 64 - 1,\n",
    "    save_figs=False,\n",
    "    fig_name=chrom + '_' + str(poses[0]) + '_prediction_grad_gtex_snp_4_folds_gtex_cov_nerve_undo_clip'\n",
    ")\n"
   ]
  },
  {
   "cell_type": "code",
   "execution_count": 12,
   "id": "42b0e259",
   "metadata": {},
   "outputs": [
    {
     "name": "stdout",
     "output_type": "stream",
     "text": [
      "example_ix = 0\n",
      "example_ix = 1\n",
      "CPU times: user 15min 42s, sys: 28.5 s, total: 16min 11s\n",
      "Wall time: 34min 28s\n"
     ]
    }
   ],
   "source": [
    "%%time\n",
    "#Get contribution scores (ISM) for nerve GTEX tracks\n",
    "# (not feasible to run on CPU; ~34 minutes on GPU)\n",
    "\n",
    "[pred_ism_wt, pred_ism_mut] = get_ism(\n",
    "    models,\n",
    "    [sequence_one_hot_wt, sequence_one_hot_mut],\n",
    "    (poses[0] - start) - 64,\n",
    "    (poses[0] - start) + 64,\n",
    "    exon_2_start_bin,\n",
    "    exon_2_end_bin,\n",
    "    exon_1_start_bin,\n",
    "    exon_1_end_bin,\n",
    "    [50, 51],\n",
    "    0.01,\n",
    "    3./4.,\n",
    "    384.,\n",
    "    use_mean=False,\n",
    "    use_ratio=True,\n",
    "    use_logodds=False\n",
    ")\n"
   ]
  },
  {
   "cell_type": "code",
   "execution_count": 13,
   "id": "7c77b8eb",
   "metadata": {},
   "outputs": [
    {
     "name": "stdout",
     "output_type": "stream",
     "text": [
      "--- WT ---\n"
     ]
    },
    {
     "data": {
      "image/png": "[encoded data removed]",
      "text/plain": [
       "<Figure size 800x100 with 1 Axes>"
      ]
     },
     "metadata": {},
     "output_type": "display_data"
    },
    {
     "name": "stdout",
     "output_type": "stream",
     "text": [
      "--- Mut ---\n"
     ]
    },
    {
     "data": {
      "image/png": "[encoded data removed]",
      "text/plain": [
       "<Figure size 800x100 with 1 Axes>"
      ]
     },
     "metadata": {},
     "output_type": "display_data"
    }
   ],
   "source": [
    "#Visualize ISM contribution scores (128 bp window centered on variant); shown in reverse-complement\n",
    "\n",
    "visualize_input_gradient_pair(\n",
    "    pred_ism_wt[::-1, ::-1],\n",
    "    pred_ism_mut[::-1, ::-1],\n",
    "    plot_start=seq_len - (poses[0] - start) - 64 - 1,\n",
    "    plot_end=seq_len - (poses[0] - start) + 64 - 1,\n",
    "    save_figs=False,\n",
    "    fig_name=chrom + '_' + str(poses[0]) + '_prediction_ism_gtex_snp_4_folds_gtex_cov_nerve_undo_clip'\n",
    ")\n"
   ]
  },
  {
   "cell_type": "code",
   "execution_count": 14,
   "id": "7f6ad34d",
   "metadata": {},
   "outputs": [
    {
     "name": "stdout",
     "output_type": "stream",
     "text": [
      "example_ix = 0\n",
      "example_ix = 1\n",
      "CPU times: user 1h 8min 37s, sys: 2min 12s, total: 1h 10min 50s\n",
      "Wall time: 2h 16min 8s\n"
     ]
    }
   ],
   "source": [
    "%%time\n",
    "#Get contribution scores (ISM shuffle) for nerve GTEX tracks\n",
    "# (not feasible to run on CPU; ~135 minutes on GPU)\n",
    "\n",
    "[pred_ism_wt, pred_ism_mut] = get_ism_shuffle(\n",
    "    models,\n",
    "    [sequence_one_hot_wt, sequence_one_hot_mut],\n",
    "    (poses[0] - start) - 64,\n",
    "    (poses[0] - start) + 64,\n",
    "    exon_2_start_bin,\n",
    "    exon_2_end_bin,\n",
    "    exon_1_start_bin,\n",
    "    exon_1_end_bin,\n",
    "    [50, 51],\n",
    "    0.01,\n",
    "    3./4.,\n",
    "    384.,\n",
    "    window_size=5,\n",
    "    n_samples=12,\n",
    "    use_mean=False,\n",
    "    use_ratio=True,\n",
    "    use_logodds=False\n",
    ")\n"
   ]
  },
  {
   "cell_type": "code",
   "execution_count": 15,
   "id": "a7329459",
   "metadata": {},
   "outputs": [
    {
     "name": "stdout",
     "output_type": "stream",
     "text": [
      "--- WT ---\n"
     ]
    },
    {
     "data": {
      "image/png": "[encoded data removed]",
      "text/plain": [
       "<Figure size 800x100 with 1 Axes>"
      ]
     },
     "metadata": {},
     "output_type": "display_data"
    },
    {
     "name": "stdout",
     "output_type": "stream",
     "text": [
      "--- Mut ---\n"
     ]
    },
    {
     "data": {
      "image/png": "[encoded data removed]",
      "text/plain": [
       "<Figure size 800x100 with 1 Axes>"
      ]
     },
     "metadata": {},
     "output_type": "display_data"
    }
   ],
   "source": [
    "#Visualize ISM Shuffle contribution scores (128 bp window centered on variant); shown in reverse-complement\n",
    "\n",
    "visualize_input_gradient_pair(\n",
    "    pred_ism_wt[::-1, ::-1],\n",
    "    pred_ism_mut[::-1, ::-1],\n",
    "    plot_start=seq_len - (poses[0] - start) - 64 - 1,\n",
    "    plot_end=seq_len - (poses[0] - start) + 64 - 1,\n",
    "    save_figs=False,\n",
    "    fig_name=chrom + '_' + str(poses[0]) + '_prediction_ism_shuffle_gtex_snp_4_folds_gtex_cov_nerve_undo_clip'\n",
    ")\n"
   ]
  },
  {
   "cell_type": "code",
   "execution_count": 16,
   "id": "35c74bd3",
   "metadata": {},
   "outputs": [],
   "source": [
    "#Choose new exons to use for attributions (isolate intronic polyadenylation determinant)\n",
    "\n",
    "pas_pos = 116664310\n",
    "\n",
    "exon_1_start_bin = 8170\n",
    "exon_1_end_bin = 8176\n",
    "\n",
    "exon_2_start_bin = 8197\n",
    "exon_2_end_bin = 8203\n"
   ]
  },
  {
   "cell_type": "code",
   "execution_count": 17,
   "id": "bcca6669",
   "metadata": {},
   "outputs": [
    {
     "name": "stdout",
     "output_type": "stream",
     "text": [
      "1/1 [==============================] - 403s 403s/step\n",
      "1/1 [==============================] - 221s 221s/step\n",
      "1/1 [==============================] - 403s 403s/step\n",
      "1/1 [==============================] - 220s 220s/step\n",
      "CPU times: user 18min 23s, sys: 2min 51s, total: 21min 14s\n",
      "Wall time: 21min 57s\n"
     ]
    }
   ],
   "source": [
    "%%time\n",
    "#Get contribution scores (gradient) for nerve GTEX tracks\n",
    "# (~20 minutes on CPU; otherwise runnable only on 40GB GPU cards, e.g. A100)\n",
    "\n",
    "_, _, [pred_grad_wt, pred_grad_mut] = get_prediction_gradient_w_rc(\n",
    "    models,\n",
    "    [sequence_one_hot_wt, sequence_one_hot_mut],\n",
    "    exon_2_start_bin,\n",
    "    exon_2_end_bin,\n",
    "    exon_1_start_bin,\n",
    "    exon_1_end_bin,\n",
    "    target_index[[50, 51]].tolist(),\n",
    "    0.01,\n",
    "    3./4.,\n",
    "    clip_soft=384.,\n",
    "    use_mean=False,\n",
    "    use_ratio=True,\n",
    "    use_logodds=False,\n",
    "    subtract_avg=True,\n",
    "    fold_index=np.arange(n_folds).tolist(),\n",
    ")\n"
   ]
  },
  {
   "cell_type": "code",
   "execution_count": 18,
   "id": "af977487",
   "metadata": {},
   "outputs": [
    {
     "name": "stdout",
     "output_type": "stream",
     "text": [
      "--- WT ---\n"
     ]
    },
    {
     "data": {
      "image/png": "[encoded data removed]",
      "text/plain": [
       "<Figure size 800x100 with 1 Axes>"
      ]
     },
     "metadata": {},
     "output_type": "display_data"
    },
    {
     "name": "stdout",
     "output_type": "stream",
     "text": [
      "--- Mut ---\n"
     ]
    },
    {
     "data": {
      "image/png": "[encoded data removed]",
      "text/plain": [
       "<Figure size 800x100 with 1 Axes>"
      ]
     },
     "metadata": {},
     "output_type": "display_data"
    }
   ],
   "source": [
    "#Visualize gradient contribution scores (128 bp window centered on variant); shown in reverse-complement\n",
    "\n",
    "visualize_input_gradient_pair(\n",
    "    pred_grad_wt[::-1, ::-1],\n",
    "    pred_grad_mut[::-1, ::-1],\n",
    "    plot_start=seq_len - (pas_pos - start) - 64 - 1,\n",
    "    plot_end=seq_len - (pas_pos - start) + 64 - 1,\n",
    "    save_figs=False,\n",
    "    fig_name=chrom + '_' + str(poses[0]) + '_prediction_grad_gtex_snp_4_folds_gtex_pas_cov_nerve_undo_clip'\n",
    ")\n"
   ]
  },
  {
   "cell_type": "code",
   "execution_count": 19,
   "id": "b6f6f994",
   "metadata": {},
   "outputs": [
    {
     "name": "stdout",
     "output_type": "stream",
     "text": [
      "example_ix = 0\n",
      "example_ix = 1\n",
      "CPU times: user 17min 54s, sys: 31.4 s, total: 18min 26s\n",
      "Wall time: 33min 54s\n"
     ]
    }
   ],
   "source": [
    "%%time\n",
    "#Get contribution scores (ISM) for nerve GTEX tracks\n",
    "# (not feasible to run on CPU; ~33 minutes on GPU)\n",
    "\n",
    "[pred_ism_wt, pred_ism_mut] = get_ism(\n",
    "    models,\n",
    "    [sequence_one_hot_wt, sequence_one_hot_mut],\n",
    "    (pas_pos - start) - 64,\n",
    "    (pas_pos - start) + 64,\n",
    "    exon_2_start_bin,\n",
    "    exon_2_end_bin,\n",
    "    exon_1_start_bin,\n",
    "    exon_1_end_bin,\n",
    "    [50, 51],\n",
    "    0.01,\n",
    "    3./4.,\n",
    "    384.,\n",
    "    use_mean=False,\n",
    "    use_ratio=True,\n",
    "    use_logodds=False\n",
    ")\n"
   ]
  },
  {
   "cell_type": "code",
   "execution_count": 20,
   "id": "18b1b848",
   "metadata": {},
   "outputs": [
    {
     "name": "stdout",
     "output_type": "stream",
     "text": [
      "--- WT ---\n"
     ]
    },
    {
     "data": {
      "image/png": "[encoded data removed]",
      "text/plain": [
       "<Figure size 800x100 with 1 Axes>"
      ]
     },
     "metadata": {},
     "output_type": "display_data"
    },
    {
     "name": "stdout",
     "output_type": "stream",
     "text": [
      "--- Mut ---\n"
     ]
    },
    {
     "data": {
      "image/png": "[encoded data removed]",
      "text/plain": [
       "<Figure size 800x100 with 1 Axes>"
      ]
     },
     "metadata": {},
     "output_type": "display_data"
    }
   ],
   "source": [
    "#Visualize ISM contribution scores (128 bp window centered on variant); shown in reverse-complement\n",
    "\n",
    "visualize_input_gradient_pair(\n",
    "    pred_ism_wt[::-1, ::-1],\n",
    "    pred_ism_mut[::-1, ::-1],\n",
    "    plot_start=seq_len - (pas_pos - start) - 64 - 1,\n",
    "    plot_end=seq_len - (pas_pos - start) + 64 - 1,\n",
    "    save_figs=False,\n",
    "    fig_name=chrom + '_' + str(poses[0]) + '_prediction_ism_gtex_snp_4_folds_gtex_pas_cov_nerve_undo_clip'\n",
    ")\n"
   ]
  },
  {
   "cell_type": "code",
   "execution_count": 21,
   "id": "1fafb96e",
   "metadata": {
    "scrolled": true
   },
   "outputs": [
    {
     "name": "stdout",
     "output_type": "stream",
     "text": [
      "example_ix = 0\n",
      "example_ix = 1\n",
      "CPU times: user 1h 11min 31s, sys: 2min 3s, total: 1h 13min 34s\n",
      "Wall time: 2h 15min 34s\n"
     ]
    }
   ],
   "source": [
    "%%time\n",
    "#Get contribution scores (ISM shuffle) for nerve GTEX tracks\n",
    "# (not feasible to run on CPU; ~135 minutes on GPU)\n",
    "\n",
    "[pred_ism_wt, pred_ism_mut] = get_ism_shuffle(\n",
    "    models,\n",
    "    [sequence_one_hot_wt, sequence_one_hot_mut],\n",
    "    (pas_pos - start) - 64,\n",
    "    (pas_pos - start) + 64,\n",
    "    exon_2_start_bin,\n",
    "    exon_2_end_bin,\n",
    "    exon_1_start_bin,\n",
    "    exon_1_end_bin,\n",
    "    [50, 51],\n",
    "    0.01,\n",
    "    3./4.,\n",
    "    384.,\n",
    "    window_size=5,\n",
    "    n_samples=12,\n",
    "    use_mean=False,\n",
    "    use_ratio=True,\n",
    "    use_logodds=False\n",
    ")\n"
   ]
  },
  {
   "cell_type": "code",
   "execution_count": 22,
   "id": "a541a96f",
   "metadata": {},
   "outputs": [
    {
     "name": "stdout",
     "output_type": "stream",
     "text": [
      "--- WT ---\n"
     ]
    },
    {
     "data": {
      "image/png": "[encoded data removed]",
      "text/plain": [
       "<Figure size 800x100 with 1 Axes>"
      ]
     },
     "metadata": {},
     "output_type": "display_data"
    },
    {
     "name": "stdout",
     "output_type": "stream",
     "text": [
      "--- Mut ---\n"
     ]
    },
    {
     "data": {
      "image/png": "[encoded data removed]",
      "text/plain": [
       "<Figure size 800x100 with 1 Axes>"
      ]
     },
     "metadata": {},
     "output_type": "display_data"
    }
   ],
   "source": [
    "#Visualize ISM Shuffle contribution scores (128 bp window centered on variant); shown in reverse-complement\n",
    "\n",
    "visualize_input_gradient_pair(\n",
    "    pred_ism_wt[::-1, ::-1],\n",
    "    pred_ism_mut[::-1, ::-1],\n",
    "    plot_start=seq_len - (pas_pos - start) - 64 - 1,\n",
    "    plot_end=seq_len - (pas_pos - start) + 64 - 1,\n",
    "    save_figs=False,\n",
    "    fig_name=chrom + '_' + str(poses[0]) + '_prediction_ism_shuffle_gtex_snp_4_folds_gtex_pas_cov_nerve_undo_clip'\n",
    ")\n"
   ]
  },
  {
   "cell_type": "code",
   "execution_count": 23,
   "id": "78d47c3a",
   "metadata": {},
   "outputs": [],
   "source": [
    "#Load samples with reference- and alternate alleles respectively\n",
    "\n",
    "#These files are protected by dbGaP - email to request access\n",
    "\n",
    "cov_files_wt = pd.read_csv(\"gtex_ref_chr10_116664061_G_A.txt\", sep='\\t', names=['file'])['file'].values.tolist()\n",
    "cov_files_mut = pd.read_csv(\"gtex_alt_chr10_116664061_G_A.txt\", sep='\\t', names=['file'])['file'].values.tolist()\n"
   ]
  },
  {
   "cell_type": "code",
   "execution_count": 24,
   "id": "9da3cbe5",
   "metadata": {
    "scrolled": true
   },
   "outputs": [
    {
     "name": "stdout",
     "output_type": "stream",
     "text": [
      "gtex_targets_wt.shape = (16352, 31)\n",
      "gtex_targets_mut.shape = (16352, 31)\n",
      "-- Counts --\n",
      " - max_y_wt = 2566.1792\n",
      " - max_y_mut = 2891.292\n",
      " -- (max_y = 2891.292)\n"
     ]
    },
    {
     "data": {
      "image/png": "[encoded data removed]",
      "text/plain": [
       "<Figure size 1200x200 with 1 Axes>"
      ]
     },
     "metadata": {},
     "output_type": "display_data"
    }
   ],
   "source": [
    "#Read measured coverage tracks for chr10_116664061_G_A\n",
    "\n",
    "save_figs = False\n",
    "save_suffix = '_chr10_116664061_G_A_meas_16_subjects'\n",
    "\n",
    "center_pos = 116664061\n",
    "\n",
    "chrom = 'chr10'\n",
    "poses = [116664061]\n",
    "alts = ['A']\n",
    "\n",
    "start = center_pos - seq_len // 2\n",
    "end = center_pos + seq_len // 2\n",
    "\n",
    "blacklist_bed = \"/home/drk/common/data/genomes/hg38/blacklist/blacklist_hg38_all.bed\"\n",
    "\n",
    "read_coverage_func_wt, close_coverage_func_wt = get_coverage_reader(cov_files_wt, 16384, 16, blacklist_bed)\n",
    "read_coverage_func_mut, close_coverage_func_mut = get_coverage_reader(cov_files_mut, 16384, 16, blacklist_bed)\n",
    "\n",
    "gtex_targets_wt = read_coverage_func_wt(chrom, start, end, clip_soft=384., clip=768., scale=0.01)\n",
    "gtex_targets_mut = read_coverage_func_mut(chrom, start, end, clip_soft=384., clip=768., scale=0.01)\n",
    "\n",
    "close_coverage_func_wt()\n",
    "close_coverage_func_mut()\n",
    "\n",
    "print(\"gtex_targets_wt.shape = \" + str(gtex_targets_wt.shape))\n",
    "print(\"gtex_targets_mut.shape = \" + str(gtex_targets_mut.shape))\n",
    "\n",
    "plot_window = 4096 * 2\n",
    "bin_size = 32\n",
    "pad = 16\n",
    "\n",
    "rescale_tracks = True\n",
    "normalize_counts = True\n",
    "\n",
    "#Tracks\n",
    "track_indices = [\n",
    "    np.arange(16),\n",
    "]\n",
    "\n",
    "track_names = [\n",
    "    'GTEx Nerve measured (16 subjects)',\n",
    "]\n",
    "\n",
    "track_scales = [\n",
    "    0.01,\n",
    "]\n",
    "\n",
    "track_transforms = [\n",
    "    3./4.,\n",
    "]\n",
    "\n",
    "soft_clips = [\n",
    "    384.,\n",
    "]\n",
    "\n",
    "print(\"-- Counts --\")\n",
    "plot_coverage_track_pair_bins(\n",
    "    gtex_targets_wt[None, None, ...],\n",
    "    gtex_targets_mut[None, None, ...],\n",
    "    chrom,\n",
    "    start,\n",
    "    center_pos,\n",
    "    poses,\n",
    "    track_indices,\n",
    "    track_names,\n",
    "    track_scales,\n",
    "    track_transforms,\n",
    "    soft_clips,\n",
    "    plot_window=plot_window,\n",
    "    normalize_window=8*plot_window,\n",
    "    bin_size=bin_size,\n",
    "    pad=pad,\n",
    "    rescale_tracks=rescale_tracks,\n",
    "    normalize_counts=normalize_counts,\n",
    "    save_figs=save_figs,\n",
    "    save_suffix=save_suffix,\n",
    "    anno_df=anno_df\n",
    ")\n"
   ]
  },
  {
   "cell_type": "code",
   "execution_count": null,
   "id": "7efea964",
   "metadata": {},
   "outputs": [],
   "source": []
  }
 ],
 "metadata": {
  "kernelspec": {
   "display_name": "Python [conda env:borzoi_py39_2]",
   "language": "python",
   "name": "conda-env-borzoi_py39_2-py"
  },
  "language_info": {
   "codemirror_mode": {
    "name": "ipython",
    "version": 3
   },
   "file_extension": ".py",
   "mimetype": "text/x-python",
   "name": "python",
   "nbconvert_exporter": "python",
   "pygments_lexer": "ipython3",
   "version": "3.9.17"
  }
 },
 "nbformat": 4,
 "nbformat_minor": 5
}
